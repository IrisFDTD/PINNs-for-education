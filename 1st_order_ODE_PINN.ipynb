{
  "cells": [
    {
      "cell_type": "markdown",
      "metadata": {
        "id": "view-in-github",
        "colab_type": "text"
      },
      "source": [
        "<a href=\"https://colab.research.google.com/github/IrisFDTD/PINNs-for-education/blob/main/1st_order_ODE_PINN.ipynb\" target=\"_parent\"><img src=\"https://colab.research.google.com/assets/colab-badge.svg\" alt=\"Open In Colab\"/></a>"
      ]
    },
    {
      "cell_type": "markdown",
      "metadata": {
        "id": "XGrgw2YZdTrS"
      },
      "source": [
        "#Supplementary material - Solving differential equations in physics with Deep Learning: a beginner’s guide\n",
        "\n",
        "Luis Medrano Navarro$^2$, Luis Martin Moreno$^{2,3}$ and Sergio G Rodrigo$^{1,2}$\n",
        "\n",
        "*$^1$ Departamento de Física Aplicada, Facultad de Ciencias, Universidad de\n",
        "Zaragoza, 50009 Zaragoza, Spain*\n",
        "\n",
        "*$^2$ Instituto de Nanociencia y Materiales de Aragón (INMA), CSIC-Universidad de Zaragoza, 50009 Zaragoza, Spain*\n",
        "\n",
        "*$^3$ Departamento de Física de la Materia Condensada, Universidad de Zaragoza, Zaragoza 50009, Spain*\n",
        "\n",
        "corresponding author: sergut@unizar.es\n"
      ]
    },
    {
      "cell_type": "markdown",
      "source": [
        "# Example 1: 1st order Ordinary Differential Equation\n",
        "$y'(x)+y(x)=0 \\hspace{0.3cm} with \\hspace{0.3cm} 0 < x < 4 $\n",
        "            \n",
        "$y(0)=1$\n",
        "\n",
        "*solution:  $y(x)=\\exp(-x)$*\n"
      ],
      "metadata": {
        "id": "Ph46sxGMyNxj"
      }
    },
    {
      "cell_type": "markdown",
      "source": [
        "## Main libraries"
      ],
      "metadata": {
        "id": "ldbOHsWmP9n8"
      }
    },
    {
      "cell_type": "code",
      "execution_count": null,
      "metadata": {
        "id": "m5zN_fiefMhh"
      },
      "outputs": [],
      "source": [
        "# Tensorflow Keras and rest of the packages\n",
        "import tensorflow as tf\n",
        "from tensorflow.keras.layers import Input,Dense\n",
        "from tensorflow.keras.optimizers import Adam\n",
        "import numpy as np\n",
        "import matplotlib.pyplot as plt"
      ]
    },
    {
      "cell_type": "markdown",
      "metadata": {
        "id": "9k6aCnLShFq0"
      },
      "source": [
        "## Definition of the PINN"
      ]
    },
    {
      "cell_type": "code",
      "execution_count": null,
      "metadata": {
        "id": "cbdSBpTnrmSV"
      },
      "outputs": [],
      "source": [
        "class ODE_1st(tf.keras.Model):\n",
        "    def train_step(self, data):\n",
        "        # Training points and the analytical (exact) solution at this points\n",
        "        x, y_exact = data\n",
        "        # Initial conditions for the PINN\n",
        "        x0=tf.constant([0.0], dtype=tf.float32)\n",
        "        y0_exact=tf.constant([1.0], dtype=tf.float32)\n",
        "        # Calculate the gradients and update weights and bias\n",
        "        with tf.GradientTape() as tape:\n",
        "            # Calculate the gradients dy/dx\n",
        "            with tf.GradientTape() as tape2:\n",
        "              tape2.watch(x0)\n",
        "              tape2.watch(x)\n",
        "              y0_NN = self(x0, training=True)\n",
        "              y_NN  = self(x, training=True)\n",
        "            dy_dx_NN= tape2.gradient(y_NN,x)\n",
        "            #Loss= ODE+ boundary/initial conditions\n",
        "            loss=self.compiled_loss(dy_dx_NN, -y_NN)\\\n",
        "                +self.compiled_loss(y0_NN,y0_exact)\n",
        "        gradients = tape.gradient(loss, self.trainable_weights)\n",
        "        self.optimizer.apply_gradients(zip(gradients, self.trainable_weights))\n",
        "        self.compiled_metrics.update_state(y_exact, y_NN)\n",
        "        return {m.name: m.result() for m in self.metrics}"
      ]
    },
    {
      "cell_type": "markdown",
      "metadata": {
        "id": "PUc4dJ4DhKn8"
      },
      "source": [
        "## Run the PINN"
      ]
    },
    {
      "cell_type": "code",
      "execution_count": null,
      "metadata": {
        "id": "LoiLIsw3dTrT"
      },
      "outputs": [],
      "source": [
        "n_train = 20\n",
        "xmin = 0\n",
        "xmax = 4\n",
        "\n",
        "# Definition of the function domain\n",
        "x_train=np.linspace(xmin,xmax,n_train)\n",
        "\n",
        "# The real solution y(x) for training evaluation\n",
        "y_train=tf.exp(-x_train)\n",
        "\n",
        "# Input and output neurons (from the data)\n",
        "input_neurons  = 1\n",
        "output_neurons = 1\n",
        "\n",
        "# Hiperparameters\n",
        "epochs = 40\n",
        "\n",
        "# Definition of the the model\n",
        "activation='elu'\n",
        "input=Input(shape=(input_neurons,))\n",
        "x=Dense(50, activation=activation)(input)\n",
        "x=Dense(50, activation=activation)(x)\n",
        "x=Dense(50, activation=activation)(x)\n",
        "output = Dense(output_neurons,activation=None)(x)\n",
        "model=ODE_1st(input,output)\n",
        "\n",
        "# Definition of the metrics, optimizer and loss\n",
        "loss= tf.keras.losses.MeanSquaredError()\n",
        "metrics=tf.keras.metrics.MeanSquaredError()\n",
        "optimizer= Adam(learning_rate=0.001)\n",
        "\n",
        "model.compile(loss=loss,\n",
        "          optimizer=optimizer,\n",
        "          metrics=[metrics])\n",
        "model.summary()\n",
        "\n",
        "history=model.fit(x_train, y_train,batch_size=1,epochs=epochs)"
      ]
    },
    {
      "cell_type": "markdown",
      "source": [
        "##  Evolution of losses during training"
      ],
      "metadata": {
        "id": "Yap3PTRi4Rhp"
      }
    },
    {
      "cell_type": "code",
      "execution_count": null,
      "metadata": {
        "id": "du_bMDsq7Hr5"
      },
      "outputs": [],
      "source": [
        "# summarize history for loss and metris\n",
        "plt.rcParams['figure.dpi'] = 150\n",
        "plt.plot(history.history['loss'],color='magenta',\n",
        "         label='Total losses ($L_D + L_B$)')\n",
        "plt.plot(history.history['mean_squared_error'],color='cyan',label='MSE')\n",
        "plt.yscale(\"log\")\n",
        "plt.xlabel('epochs')\n",
        "plt.legend(loc='upper right')\n",
        "plt.show()"
      ]
    },
    {
      "cell_type": "markdown",
      "source": [
        "## Solution and its derivatives"
      ],
      "metadata": {
        "id": "DSqGs-Xa4W5J"
      }
    },
    {
      "cell_type": "code",
      "execution_count": null,
      "metadata": {
        "id": "Tu5AeSzauTgN"
      },
      "outputs": [],
      "source": [
        "# Check the PINN at different points not included in the training set\n",
        "n = 500\n",
        "x=np.linspace(0,4,n)\n",
        "y_exact=tf.exp(-x)\n",
        "y_NN=model.predict(x)\n",
        "\n",
        "# The gradients (y'(x) and y''(x)) from the model\n",
        "x_tf = tf.convert_to_tensor(x, dtype=tf.float32)\n",
        "with tf.GradientTape(persistent=True) as t:\n",
        "  t.watch(x_tf)\n",
        "  with tf.GradientTape(persistent=True) as t2:\n",
        "        t2.watch(x_tf)\n",
        "        y = model(x_tf)\n",
        "  dy_dx_NN = t2.gradient(y, x_tf)\n",
        "d2y_dx2_NN = t.gradient(dy_dx_NN, x_tf)\n",
        "\n",
        "# Plot the results\n",
        "plt.rcParams['figure.dpi'] = 150\n",
        "plt.plot(x, y_exact, color=\"black\",linestyle='solid',\n",
        "                     linewidth=2.5,label=\"$y(x)$ analytical\")\n",
        "plt.plot(x, y_NN, color=\"red\",linestyle='dashed',\n",
        "                     linewidth=2.5, label=\"$y_{NN}(x)$\")\n",
        "plt.plot(x, dy_dx_NN, color=\"blue\",linestyle='-.',\n",
        "                     linewidth=3.0, label=\"$y'_{NN}(x)$\")\n",
        "plt.plot(x, d2y_dx2_NN, color=\"green\", linestyle='dotted',\n",
        "                     linewidth=3.0, label=\"$y''_{NN}(x)$\")\n",
        "plt.legend()\n",
        "plt.xlabel(\"x\")\n",
        "plt.show()"
      ]
    }
  ],
  "metadata": {
    "colab": {
      "provenance": [],
      "toc_visible": true,
      "include_colab_link": true
    },
    "kernelspec": {
      "display_name": "Python 3",
      "language": "python",
      "name": "python3"
    },
    "language_info": {
      "codemirror_mode": {
        "name": "ipython",
        "version": 3
      },
      "file_extension": ".py",
      "mimetype": "text/x-python",
      "name": "python",
      "nbconvert_exporter": "python",
      "pygments_lexer": "ipython3",
      "version": "3.7.6"
    }
  },
  "nbformat": 4,
  "nbformat_minor": 0
}