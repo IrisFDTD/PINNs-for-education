{
  "cells": [
    {
      "cell_type": "markdown",
      "metadata": {
        "id": "view-in-github",
        "colab_type": "text"
      },
      "source": [
        "<a href=\"https://colab.research.google.com/github/IrisFDTD/PINNs-for-education/blob/main/3rd_order_nonlinear_ODE_PINN.ipynb\" target=\"_parent\"><img src=\"https://colab.research.google.com/assets/colab-badge.svg\" alt=\"Open In Colab\"/></a>"
      ]
    },
    {
      "cell_type": "markdown",
      "metadata": {
        "id": "XGrgw2YZdTrS"
      },
      "source": [
        "# Physics-Informed Neural Networks - 3rd order Ordinary Differential Equations"
      ]
    },
    {
      "cell_type": "markdown",
      "metadata": {
        "id": "qAXw7AqzCppi"
      },
      "source": [
        "+ This notebook has been implemented by Jorge Paz-Peñuelas Oliván (774270@unizar.es) as part of extracurricular activities at the University of Zaragoza in July 2023.\n",
        "+ The code builds upon the 2nd-order ODE implementation using Physics-Informed Neural Networks (PINNs) done by Luis Medrano.Navarro, Luis Martin Moreno and Sergio G Rodrigo ([Solving differential equations in physics with Deep Learning: a beginner’s guide](https://arxiv.org/abs/2307.11237))."
      ]
    },
    {
      "cell_type": "markdown",
      "metadata": {
        "id": "16jSoBn47pZM"
      },
      "source": [
        "\n",
        "## Important libraries"
      ]
    },
    {
      "cell_type": "code",
      "execution_count": null,
      "metadata": {
        "id": "m5zN_fiefMhh",
        "scrolled": false
      },
      "outputs": [],
      "source": [
        "# Tensorflow Keras and rest of the packages\n",
        "import tensorflow as tf\n",
        "from tensorflow.keras.layers import Dense,Input\n",
        "from tensorflow.keras.optimizers import Adam,SGD\n",
        "import numpy as np\n",
        "import matplotlib.pyplot as plt\n",
        "plt.rcParams[\"figure.figsize\"] = (6,4.5)\n",
        "import types"
      ]
    },
    {
      "cell_type": "markdown",
      "metadata": {
        "id": "H4lUOFQ9Cppl"
      },
      "source": [
        "## Definition of the ODE"
      ]
    },
    {
      "cell_type": "markdown",
      "metadata": {
        "id": "fslC-pSXCppl"
      },
      "source": [
        "An arbitrary Ordinary Differential Equation (ODE) of $n$-order for a function $y:\\mathbb{R}\\to\\mathbb{R}$ with variable $x$ can be written as follows\n",
        "$$F\\left(x,y,y',y'',\\dots,y^{(n)}\\right)=0$$\n",
        "\n",
        "To determine a unique solution it is necessary to provide the initial conditions.\n",
        "$$y(x_0)\\quad y'(x_0)\\quad\\dots\\quad y^{(n-1)}(x_0)$$"
      ]
    },
    {
      "cell_type": "markdown",
      "metadata": {
        "id": "bah7GHFJCppl"
      },
      "source": [
        "As we are going to be programming arbitrary differential equations we also want to solve them with the usual RK4 algortihm to be able to compare the final solutions. RK4 has the limitation of needing to write the equation as an order one system of differential equations $Y'=H(x,Y)$.\n",
        "\n",
        "Thus we will first consider equations of the form\n",
        "$$y^{(n)}=G\\left(x,y,y',\\dots,y^{(n-1)}\\right)$$\n",
        "where the corresponding $F$ would be $F=y^{(n)}-G$"
      ]
    },
    {
      "cell_type": "markdown",
      "metadata": {
        "id": "zmoWst9iCppm"
      },
      "source": [
        "Firstly we have to write the $n$-th order equation as a system of first order equations. Let $Y:\\mathbb{R}\\to\\mathbb{R}^n$ with $Y=(y_1,y_2,\\dots,y_n)^T=(y,y',\\dots,y^{(n-1)})^T$ such that $Y'=H(x,Y)$ with $H:\\mathbb{R}\\times\\mathbb{R}^n\\to\\mathbb{R}^n$ given by\n",
        "$$H(x,Y)=\\begin{pmatrix}y_2\\\\\\vdots\\\\y_n\\\\G(x,Y)\\end{pmatrix}$$\n",
        "In our case $n\\le3$."
      ]
    },
    {
      "cell_type": "markdown",
      "metadata": {
        "id": "UVYOZUP7Cppm"
      },
      "source": [
        "To generalise and to simplify the definition of functions $G,F$ and $H$ we will denote by $\\tilde{Y}=(Y^T,y^{(n)})^T$"
      ]
    },
    {
      "cell_type": "markdown",
      "metadata": {
        "id": "AKdAZ1B4Cppn"
      },
      "source": [
        "As an example we are going to be studying the equation\n",
        "$$y'''-y'\\sin(y)+y''y=0$$\n",
        "with initial conditions $y(0)=-\\frac{1}{2}$, $y'(0)=0$ and $y''(0)=1$"
      ]
    },
    {
      "cell_type": "code",
      "execution_count": null,
      "metadata": {
        "id": "6mXoKEWwCppn"
      },
      "outputs": [],
      "source": [
        "# Info on the ODE\n",
        "\n",
        "SolveMedrano = False  # Medrano's 2nd order ODE\n",
        "\n",
        "Order = 3\n",
        "RKsolvable = True\n",
        "\n",
        "if SolveMedrano:\n",
        "    Order = 2\n",
        "    RKsolvable = True\n",
        "\n",
        "\n",
        "    # We define the ODE\n",
        "\n",
        "if RKsolvable:\n",
        "    def ode_G(x,Y, coefs=None):\n",
        "        if SolveMedrano: return Y[0]+3*Y[0]**2\n",
        "        else: return Y[1]*tf.math.sin(Y[0])-Y[2]*Y[0] # Generic ODE:\n",
        "                                                      # well solved for order=3,\n",
        "                                                      # x0 = 0, Y0 = [-1/2,0,1] and x in (-1,2)\n",
        "                                                      # 2000 epochs and LR e-4\n",
        "\n",
        "def ode_F(x,Ytilde,coefs=None):\n",
        "    if RKsolvable:\n",
        "        return Ytilde[-1]-ode_G(x,Ytilde[:-1],coefs)\n",
        "    else:\n",
        "        return Ytilde[-1]*Ytilde[0]+tf.math.tan(x**2) # Generic non-RKsolvable ODE:\n",
        "                                                      # 'solved' for order=3,\n",
        "                                                      # x0 = 0, Y0 = [-1/2,0,1] and x in (-1,2)\n",
        "                                                      # 3000 epochs and LR e-4\n",
        "\n",
        "# We set the interval of interest and the initial condition\n",
        "\n",
        "# Initial conditions.\n",
        "    # If some are not necessary (Order<3) provide arbitrary values, they will be ignored\n",
        "x0 = 0.0\n",
        "y0 = -0.5\n",
        "dy_dx0 = 0.0\n",
        "d2y_dx20 = 1.0\n",
        "\n",
        "Y0 = np.array([y0,dy_dx0,d2y_dx20])\n",
        "Y0 = Y0[:Order]\n",
        "\n",
        "# Interval of interest\n",
        "xmin = -1.0\n",
        "xmax = 2.0"
      ]
    },
    {
      "cell_type": "markdown",
      "metadata": {
        "id": "y3MvpFpNCppo"
      },
      "source": [
        "## Computation of the solution by the RK4 method"
      ]
    },
    {
      "cell_type": "code",
      "execution_count": null,
      "metadata": {
        "id": "c8QbjNSXCppo"
      },
      "outputs": [],
      "source": [
        "if RKsolvable:\n",
        "    def ode_H(x,Y,coefs=None):\n",
        "        H=Y.copy()\n",
        "        H=np.delete(H,0)\n",
        "        return np.append(H,ode_G(x,Y,coefs))"
      ]
    },
    {
      "cell_type": "code",
      "execution_count": null,
      "metadata": {
        "id": "Znc51G4lCppo"
      },
      "outputs": [],
      "source": [
        "if RKsolvable:\n",
        "    from scipy.integrate import odeint\n",
        "\n",
        "    xminRK = x0\n",
        "    xmaxRK = xmax\n",
        "    npointsRK = 101\n",
        "    x_RK=np.linspace(xminRK,xmaxRK,npointsRK)\n",
        "\n",
        "    Y_RK = odeint(ode_H, Y0, x_RK, tfirst=True)"
      ]
    },
    {
      "cell_type": "markdown",
      "metadata": {
        "id": "Zyg3VP_hNmiR"
      },
      "source": [
        "## Definition of the PINN"
      ]
    },
    {
      "cell_type": "code",
      "execution_count": null,
      "metadata": {
        "id": "mc2w3kUgNmiT"
      },
      "outputs": [],
      "source": [
        "class ODE_upto3rd(tf.keras.Model):\n",
        "    loaded = 0\n",
        "\n",
        "    def load_ivp(self,F,x0,Y0): # load the Initial Value Problem\n",
        "        if not type(F) is types.FunctionType: raise ValueError(\"The provided function is not a function.\")\n",
        "        if not type(Y0) is np.ndarray: raise ValueError(\"Y0 must be an array.\")\n",
        "        self.function = F\n",
        "        self.init_cond = (x0,Y0)\n",
        "        self.ivp_order = len(Y0)\n",
        "        self.loaded = 1\n",
        "\n",
        "    def train_step(self, data):\n",
        "        '''\n",
        "        Training ocurrs here\n",
        "        '''\n",
        "        if not self.loaded:\n",
        "            raise ValueError(\"The model hasn't been assigned any initial value problem.\")\n",
        "\n",
        "        x = data\n",
        "\n",
        "        #Set initial conditions for the PINN\n",
        "        x0_NN=tf.constant([self.init_cond[0]], dtype=tf.float32)\n",
        "        y0_exact=tf.constant([self.init_cond[1][0]], dtype=tf.float32)\n",
        "        dy_dx0_exact=tf.constant([self.init_cond[1][1]], dtype=tf.float32)\n",
        "        d2y_dx20_exact=tf.constant([self.init_cond[1][2]], dtype=tf.float32)\n",
        "\n",
        "        with tf.GradientTape() as tape:\n",
        "            tape.watch(x)\n",
        "            tape.watch(x0_NN)\n",
        "            # Calculate the gradients dy3/dx3, dy2/dx2, dy/dx\n",
        "            with tf.GradientTape() as tape01:\n",
        "                    tape01.watch(x0_NN)\n",
        "                    with tf.GradientTape() as tape02:\n",
        "                        tape02.watch(x0_NN)\n",
        "                        y0_NN = self(x0_NN,training=False)\n",
        "                    dy_dx0_NN = tape02.gradient(y0_NN, x0_NN)\n",
        "            d2y_dx20_NN = tape01.gradient(dy_dx0_NN, x0_NN)\n",
        "            with tf.GradientTape() as tape1:\n",
        "                tape1.watch(x)\n",
        "                with tf.GradientTape() as tape2:\n",
        "                    tape2.watch(x)\n",
        "                    with tf.GradientTape() as tape3:\n",
        "                        tape3.watch(x)\n",
        "                        y_NN = self(x,training=False)\n",
        "                    dy_dx_NN = tape3.gradient(y_NN, x)\n",
        "                d2y_dx2_NN = tape2.gradient(dy_dx_NN, x)\n",
        "            d3y_dx3_NN = tape1.gradient(d2y_dx2_NN,x)\n",
        "\n",
        "            #Loss= ODE+ boundary/initial conditions\n",
        "            y0_exact=tf.reshape(y0_exact,shape=y_NN[0].shape)\n",
        "            dy_dx0_exact=tf.reshape(dy_dx0_exact,shape=dy_dx0_NN.shape)\n",
        "            d2y_dx20_exact=tf.reshape(d2y_dx20_exact,shape=d2y_dx20_NN.shape)\n",
        "\n",
        "            y_NN = tf.reshape(y_NN,dy_dx_NN.shape)\n",
        "            Ytilde_NN = tf.TensorArray(tf.float32, size=0, dynamic_size=True, clear_after_read=False)\n",
        "            Ytilde_NN = Ytilde_NN.write(0,y_NN)\n",
        "            Ytilde_NN = Ytilde_NN.write(1,dy_dx_NN)\n",
        "            if self.ivp_order >= 2:\n",
        "                Ytilde_NN = Ytilde_NN.write(2,d2y_dx2_NN)\n",
        "            if self.ivp_order >= 3:\n",
        "                Ytilde_NN = Ytilde_NN.write(3,d3y_dx3_NN)\n",
        "            Ytilde_NN = Ytilde_NN.stack()\n",
        "\n",
        "            func_shape=self.function(x,Ytilde_NN).shape\n",
        "            zeros=tf.zeros(func_shape, dtype=tf.float32)\n",
        "\n",
        "            loss = self.compiled_loss(y0_NN,y0_exact)\\\n",
        "                  +self.compiled_loss(zeros,self.function(x,Ytilde_NN))\n",
        "            if self.ivp_order >= 2:\n",
        "                  loss = loss+self.compiled_loss(dy_dx0_NN,dy_dx0_exact)\n",
        "            if self.ivp_order >= 3:\n",
        "                loss = loss+self.compiled_loss(d2y_dx20_NN,d2y_dx20_exact)\n",
        "\n",
        "        gradients = tape.gradient(loss, self.trainable_weights)\n",
        "        self.optimizer.apply_gradients(zip(gradients, self.trainable_weights))\n",
        "        return {m.name: m.result() for m in self.metrics}"
      ]
    },
    {
      "cell_type": "markdown",
      "metadata": {
        "id": "PUc4dJ4DhKn8"
      },
      "source": [
        "\n",
        "## Run the PINN"
      ]
    },
    {
      "cell_type": "code",
      "execution_count": null,
      "metadata": {
        "id": "LoiLIsw3dTrT"
      },
      "outputs": [],
      "source": [
        "n_train = 11\n",
        "\n",
        "# Definition of the function domain\n",
        "x_train=np.linspace(xmin,xmax,n_train)\n",
        "\n",
        "# Add initial conditions to the training set\n",
        "np.append(x_train,x0)\n",
        "\n",
        "# Input and output neurons (from the data)\n",
        "input_neurons  = 1\n",
        "output_neurons = 1\n",
        "\n",
        "# Hiperparameters\n",
        "epochs = 2000\n",
        "\n",
        "# Define the model\n",
        "activation='tanh'\n",
        "input=Input(shape=(input_neurons,))\n",
        "x=Dense(50, activation=activation)(input)\n",
        "x=Dense(50, activation=activation)(x)\n",
        "x=Dense(50, activation=activation)(x)\n",
        "output = Dense(output_neurons,activation=None)(x)\n",
        "model = ODE_upto3rd(input,output)\n",
        "model.load_ivp(ode_F,x0,Y0)\n",
        "\n",
        "#Define the metrics, optimizer and loss\n",
        "loss = tf.keras.losses.MeanSquaredError()\n",
        "metrics = tf.keras.metrics.MeanSquaredError()\n",
        "optimizer = Adam(learning_rate=0.0001)\n",
        "\n",
        "model.compile(loss=loss,\n",
        "          optimizer=optimizer,\n",
        "          metrics=[metrics])\n",
        "model.summary()\n",
        "\n",
        "# Just use `fit` as usual\n",
        "callback = tf.keras.callbacks.EarlyStopping(monitor='loss',\n",
        "                                            patience=1000,\n",
        "                                            restore_best_weights=True)\n",
        "\n",
        "history = model.fit(x_train, batch_size=1, epochs=epochs,\n",
        "                  callbacks=callback)"
      ]
    },
    {
      "cell_type": "markdown",
      "metadata": {
        "id": "kTPfdxJHJNOQ"
      },
      "source": [
        "## Check the PINN"
      ]
    },
    {
      "cell_type": "markdown",
      "metadata": {
        "id": "Yap3PTRi4Rhp"
      },
      "source": [
        "### Plot losses and metrics"
      ]
    },
    {
      "cell_type": "code",
      "execution_count": null,
      "metadata": {
        "id": "du_bMDsq7Hr5"
      },
      "outputs": [],
      "source": [
        "# summarize history for loss and metris\n",
        "plt.rcParams['figure.dpi'] = 150\n",
        "plt.plot(history.history['loss'],color='magenta',linewidth=0.5,label='Total losses ($L_D + L_B$)')\n",
        "#plt.plot(history.history['mean_squared_error'],color='cyan',linewidth=0.5,label='MSE')\n",
        "plt.yscale(\"log\")\n",
        "plt.xlabel('epochs')\n",
        "plt.legend(loc='upper right')\n",
        "plt.show()"
      ]
    },
    {
      "cell_type": "markdown",
      "metadata": {
        "id": "2PYfgm26_THY"
      },
      "source": [
        "### Visual check of the results"
      ]
    },
    {
      "cell_type": "code",
      "execution_count": null,
      "metadata": {
        "id": "KyNLBSg1_THY"
      },
      "outputs": [],
      "source": [
        "# Check the PINN at different points not included in the training set\n",
        "n = 500\n",
        "x = np.linspace(xmin-1,xmax+1,n)\n",
        "x0 = 0.0\n",
        "y_NN = model.predict(x)\n",
        "\n",
        "# We compute the derivatives and build Ytilde_NN again\n",
        "x_tf = tf.convert_to_tensor(x, dtype=tf.float32)\n",
        "\n",
        "with tf.GradientTape() as t1:  # persistent=True doesn't appear to be necessary\n",
        "    t1.watch(x_tf)\n",
        "    with tf.GradientTape() as t2:\n",
        "        t2.watch(x_tf)\n",
        "        with tf.GradientTape() as t3:\n",
        "            t3.watch(x_tf)\n",
        "            y_NN = model(x_tf)\n",
        "        dy_dx_NN = t3.gradient(y_NN, x_tf)\n",
        "    d2y_dx2_NN = t2.gradient(dy_dx_NN, x_tf)\n",
        "d3y_dx3_NN = t1.gradient(d2y_dx2_NN, x_tf)\n",
        "\n",
        "y_NN = tf.reshape(y_NN,dy_dx_NN.shape)\n",
        "Ytilde_NN = tf.TensorArray(tf.float32, size=0, dynamic_size=True, clear_after_read=False)\n",
        "Ytilde_NN = Ytilde_NN.write(0,y_NN)\n",
        "Ytilde_NN = Ytilde_NN.write(1,dy_dx_NN)\n",
        "if Order >= 2:\n",
        "    Ytilde_NN = Ytilde_NN.write(2,d2y_dx2_NN)\n",
        "if Order >= 3:\n",
        "    Ytilde_NN = Ytilde_NN.write(3,d3y_dx3_NN)\n",
        "Ytilde_NN = Ytilde_NN.stack()\n",
        "\n",
        "# Define Graph parameters\n",
        "colours = (\"darkred\",\"firebrick\",\"coral\",\"rosybrown\")\n",
        "linestyles = (\"dashed\",\"dotted\",\"dotted\",\"dotted\")\n",
        "labels = (\"$y_{NN}(x)$\",\"$y'_{NN}(x)$\",\"$y''_{NN}(x)$\",\"$y'''_{NN}(x)$\")\n",
        "\n",
        "# Plot the ODE solution\n",
        "plt.rcParams['figure.dpi'] = 150\n",
        "if RKsolvable:\n",
        "    plt.plot(x_RK, Y_RK[:,0], color=\"turquoise\", label=\"$y_{RK}(x)$\")\n",
        "for i in range(Order+1):\n",
        "    plt.plot(x, Ytilde_NN[i], color=colours[i], linestyle=linestyles[i], linewidth=1, label=labels[i])\n",
        "plt.legend(bbox_to_anchor=(1, 1), loc=\"upper left\")\n",
        "plt.title(\"Solution of the ODE\")\n",
        "plt.xlabel(\"x\")\n",
        "plt.show()\n",
        "\n",
        "# Check the ODE resolution\n",
        "if RKsolvable:\n",
        "    plt.plot(x, ode_G(x,Ytilde_NN[:-1]), color=\"plum\", linewidth=1, label=\"$G(x,Y)$\")\n",
        "    plt.plot(x, Ytilde_NN[Order], color=colours[Order], linestyle=linestyles[Order], linewidth=1, label=labels[Order])\n",
        "plt.plot(x, ode_F(x_tf,Ytilde_NN), color=\"darkblue\", linewidth=1, label=\"$F(x,Y_{\\t{tilde}})$\")\n",
        "plt.plot(xmin,ode_F(xmin,Ytilde_NN[:,np.where((x>=xmin))[0][0]]),'b+',label=\"$(x_{\\t{min}},x_{\\t{max}})$\")\n",
        "plt.plot(xmax,ode_F(xmax,Ytilde_NN[:,np.where((x<=xmax))[0][-1]]),'b+')\n",
        "plt.legend(bbox_to_anchor=(1, 1), loc=\"upper left\")\n",
        "plt.title(\"Result comparison\")\n",
        "plt.xlabel(\"x\")\n",
        "plt.show()"
      ]
    },
    {
      "cell_type": "markdown",
      "metadata": {
        "id": "aGSvnoLHCppr"
      },
      "source": [
        "In the non-RKsolvable example the solution seems to jump to another one at around 1.2 . There is no other way to check the goodness of the solution but comparing $F$ to 0."
      ]
    }
  ],
  "metadata": {
    "colab": {
      "provenance": [],
      "toc_visible": true,
      "include_colab_link": true
    },
    "kernelspec": {
      "display_name": "Python 3 (ipykernel)",
      "language": "python",
      "name": "python3"
    },
    "language_info": {
      "codemirror_mode": {
        "name": "ipython",
        "version": 3
      },
      "file_extension": ".py",
      "mimetype": "text/x-python",
      "name": "python",
      "nbconvert_exporter": "python",
      "pygments_lexer": "ipython3",
      "version": "3.9.17"
    }
  },
  "nbformat": 4,
  "nbformat_minor": 0
}